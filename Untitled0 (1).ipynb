{
  "nbformat": 4,
  "nbformat_minor": 0,
  "metadata": {
    "colab": {
      "provenance": []
    },
    "kernelspec": {
      "name": "python3",
      "display_name": "Python 3"
    },
    "language_info": {
      "name": "python"
    }
  },
  "cells": [
    {
      "cell_type": "code",
      "source": [
        "from google.colab import drive\n",
        "drive.mount('/content/drive', force_remount=True)"
      ],
      "metadata": {
        "colab": {
          "base_uri": "https://localhost:8080/"
        },
        "id": "BsrGJHTgeMAu",
        "outputId": "45d596d8-8938-4fa9-a05b-4ae756dca88a"
      },
      "execution_count": 1,
      "outputs": [
        {
          "output_type": "stream",
          "name": "stdout",
          "text": [
            "Mounted at /content/drive\n"
          ]
        }
      ]
    },
    {
      "cell_type": "code",
      "source": [
        "# Define paths to the dataset\n",
        "train_dir = '/content/drive/MyDrive/Buildings-vs-Forests/traning_set'\n",
        "test_dir = '/content/drive/MyDrive/Buildings-vs-Forests/test_set'"
      ],
      "metadata": {
        "id": "_OUyDt9see39"
      },
      "execution_count": 2,
      "outputs": []
    },
    {
      "cell_type": "code",
      "source": [
        "import os\n",
        "\n",
        "base = '/content/Buildings-vs-Forests/buildings-vs-forests'\n",
        "for root, dirs, files in os.walk(base):\n",
        "    print(f\"\\n📂 {root}\")\n",
        "    for name in dirs:\n",
        "        print(f\"  📁 {name}\")\n"
      ],
      "metadata": {
        "id": "U3cme4igvFHV"
      },
      "execution_count": 3,
      "outputs": []
    },
    {
      "cell_type": "code",
      "source": [
        "import zipfile\n",
        "import os\n",
        "\n",
        "zip_path = '/content/drive/MyDrive/Buildings-vs-Forests.zip'\n",
        "extract_path = '/content/Buildings-vs-Forests'\n",
        "\n",
        "with zipfile.ZipFile(zip_path, 'r') as zip_ref:\n",
        "    zip_ref.extractall(extract_path)\n"
      ],
      "metadata": {
        "id": "1aMEgP7-vPZ4"
      },
      "execution_count": 4,
      "outputs": []
    },
    {
      "cell_type": "code",
      "source": [
        "import os\n",
        "\n",
        "base = '/content/Buildings-vs-Forests/buildings-vs-forests'\n",
        "\n",
        "print(len(os.listdir(f'{base}/traning_set/buildings')))\n",
        "print(len(os.listdir(f'{base}/traning_set/forest')))\n",
        "print(len(os.listdir(f'{base}/test_set/buildings')))\n",
        "print(len(os.listdir(f'{base}/test_set/forest')))\n"
      ],
      "metadata": {
        "colab": {
          "base_uri": "https://localhost:8080/"
        },
        "id": "iz1Dr_tar-Yf",
        "outputId": "36c28491-abda-428a-cd72-b230c16303a1"
      },
      "execution_count": 5,
      "outputs": [
        {
          "output_type": "stream",
          "name": "stdout",
          "text": [
            "2190\n",
            "2253\n",
            "437\n",
            "474\n"
          ]
        }
      ]
    },
    {
      "cell_type": "code",
      "source": [
        "import tensorflow as tf\n",
        "from tensorflow.keras.preprocessing.image import ImageDataGenerator\n",
        "\n",
        "# المسار الصحيح بعد فك الضغط\n",
        "train_dir = '/content/Buildings-vs-Forests/buildings-vs-forests/traning_set'\n",
        "\n",
        "# إعداد التحويلات للصور\n",
        "train_datagen = ImageDataGenerator(\n",
        "    rescale=1./255,\n",
        "    validation_split=0.2\n",
        ")\n",
        "0\n",
        "# بيانات التدريب\n",
        "train_data = train_datagen.flow_from_directory(\n",
        "    train_dir,\n",
        "    target_size=(256, 256),\n",
        "    batch_size=32,\n",
        "    class_mode='binary',\n",
        "    subset='training'\n",
        ")\n",
        "\n",
        "# بيانات التحقق (validation)\n",
        "validation_datagen = ImageDataGenerator(\n",
        "    rescale=1./255,\n",
        "    validation_split=0.2\n",
        ")\n",
        "\n",
        "validation_data = validation_datagen.flow_from_directory(\n",
        "    train_dir,\n",
        "    target_size=(256, 256),\n",
        "    batch_size=32,\n",
        "    class_mode='binary',\n",
        "    subset='validation'\n",
        ")\n"
      ],
      "metadata": {
        "colab": {
          "base_uri": "https://localhost:8080/"
        },
        "id": "2kH6aNwUs7cg",
        "outputId": "4e1ab0c4-ea07-4935-ff0a-ad355fd51e2d"
      },
      "execution_count": 6,
      "outputs": [
        {
          "output_type": "stream",
          "name": "stdout",
          "text": [
            "Found 3555 images belonging to 2 classes.\n",
            "Found 888 images belonging to 2 classes.\n"
          ]
        }
      ]
    },
    {
      "cell_type": "code",
      "source": [
        "from tensorflow import keras\n",
        "from keras import Sequential\n",
        "from keras.layers import Dense, Conv2D, MaxPooling2D, Flatten, BatchNormalization, Dropout\n"
      ],
      "metadata": {
        "id": "ydEe38g2s7Oc"
      },
      "execution_count": 8,
      "outputs": []
    },
    {
      "cell_type": "code",
      "source": [
        "from keras import Sequential\n",
        "from keras.layers import Conv2D, MaxPooling2D, Flatten, Dense\n",
        "\n",
        "# Define CNN model for Buildings vs Forests classification\n",
        "model = Sequential()\n",
        "\n",
        "# First convolutional block\n",
        "model.add(Conv2D(32, kernel_size=(3, 3), padding='valid', activation='relu', input_shape=(256, 256, 3)))\n",
        "model.add(MaxPooling2D(pool_size=(2, 2), strides=2, padding='valid'))\n",
        "\n",
        "# Second convolutional block\n",
        "model.add(Conv2D(64, kernel_size=(3, 3), padding='valid', activation='relu'))\n",
        "model.add(MaxPooling2D(pool_size=(2, 2), strides=2, padding='valid'))\n",
        "\n",
        "# Third convolutional block\n",
        "model.add(Conv2D(128, kernel_size=(3, 3), padding='valid', activation='relu'))\n",
        "model.add(MaxPooling2D(pool_size=(2, 2), strides=2, padding='valid'))\n",
        "\n",
        "# Fully connected layers\n",
        "model.add(Flatten())\n",
        "model.add(Dense(128, activation='relu'))  # Feature reduction\n",
        "model.add(Dense(64, activation='relu'))\n",
        "model.add(Dense(1, activation='sigmoid'))  # Output layer for binary classification\n"
      ],
      "metadata": {
        "colab": {
          "base_uri": "https://localhost:8080/"
        },
        "id": "Kg4iucurtqWh",
        "outputId": "48078ba1-a2c5-4692-b164-6605de39c7ec"
      },
      "execution_count": 9,
      "outputs": [
        {
          "output_type": "stream",
          "name": "stderr",
          "text": [
            "/usr/local/lib/python3.11/dist-packages/keras/src/layers/convolutional/base_conv.py:107: UserWarning: Do not pass an `input_shape`/`input_dim` argument to a layer. When using Sequential models, prefer using an `Input(shape)` object as the first layer in the model instead.\n",
            "  super().__init__(activity_regularizer=activity_regularizer, **kwargs)\n"
          ]
        }
      ]
    },
    {
      "cell_type": "code",
      "source": [
        "from keras import Sequential\n",
        "from keras.layers import Conv2D, MaxPooling2D, Flatten, Dense\n",
        "\n",
        "# Define CNN model for Buildings vs Forests classification\n",
        "model = Sequential()\n",
        "\n",
        "# First convolutional block\n",
        "model.add(Conv2D(32, kernel_size=(3, 3), padding='valid', activation='relu', input_shape=(256, 256, 3)))\n",
        "model.add(MaxPooling2D(pool_size=(2, 2), strides=2, padding='valid'))\n",
        "\n",
        "# Second convolutional block\n",
        "model.add(Conv2D(64, kernel_size=(3, 3), padding='valid', activation='relu'))\n",
        "model.add(MaxPooling2D(pool_size=(2, 2), strides=2, padding='valid'))\n",
        "\n",
        "# Third convolutional block\n",
        "model.add(Conv2D(128, kernel_size=(3, 3), padding='valid', activation='relu'))\n",
        "model.add(MaxPooling2D(pool_size=(2, 2), strides=2, padding='valid'))\n",
        "\n",
        "# Fully connected layers\n",
        "model.add(Flatten())\n",
        "model.add(Dense(128, activation='relu'))  # Feature reduction\n",
        "model.add(Dense(64, activation='relu'))\n",
        "model.add(Dense(1, activation='sigmoid'))  # Output layer for binary classification\n"
      ],
      "metadata": {
        "id": "IwbCcOE-t0Q0"
      },
      "execution_count": 10,
      "outputs": []
    },
    {
      "cell_type": "code",
      "source": [
        "from keras.optimizers import Adam\n",
        "\n",
        "model.compile(\n",
        "    optimizer=Adam(learning_rate=0.001),\n",
        "    loss='binary_crossentropy',\n",
        "    metrics=['accuracy']\n",
        ")\n"
      ],
      "metadata": {
        "id": "vVEzrhRctzth"
      },
      "execution_count": 11,
      "outputs": []
    },
    {
      "cell_type": "code",
      "source": [
        "history = model.fit(\n",
        "    train_data,\n",
        "    epochs=20,\n",
        "    validation_data=validation_data\n",
        ")\n"
      ],
      "metadata": {
        "colab": {
          "base_uri": "https://localhost:8080/"
        },
        "id": "oTm1nQP2uBk3",
        "outputId": "feb006a5-0666-48d4-d2a2-30c260212cf1"
      },
      "execution_count": 14,
      "outputs": [
        {
          "output_type": "stream",
          "name": "stdout",
          "text": [
            "Epoch 1/20\n",
            "\u001b[1m112/112\u001b[0m \u001b[32m━━━━━━━━━━━━━━━━━━━━\u001b[0m\u001b[37m\u001b[0m \u001b[1m529s\u001b[0m 5s/step - accuracy: 0.9520 - loss: 0.1330 - val_accuracy: 0.9696 - val_loss: 0.1054\n",
            "Epoch 2/20\n",
            "\u001b[1m112/112\u001b[0m \u001b[32m━━━━━━━━━━━━━━━━━━━━\u001b[0m\u001b[37m\u001b[0m \u001b[1m532s\u001b[0m 5s/step - accuracy: 0.9585 - loss: 0.1163 - val_accuracy: 0.9527 - val_loss: 0.1448\n",
            "Epoch 3/20\n",
            "\u001b[1m112/112\u001b[0m \u001b[32m━━━━━━━━━━━━━━━━━━━━\u001b[0m\u001b[37m\u001b[0m \u001b[1m531s\u001b[0m 5s/step - accuracy: 0.9832 - loss: 0.0494 - val_accuracy: 0.8885 - val_loss: 0.3784\n",
            "Epoch 4/20\n",
            "\u001b[1m112/112\u001b[0m \u001b[32m━━━━━━━━━━━━━━━━━━━━\u001b[0m\u001b[37m\u001b[0m \u001b[1m530s\u001b[0m 5s/step - accuracy: 0.9744 - loss: 0.0756 - val_accuracy: 0.9572 - val_loss: 0.1471\n",
            "Epoch 5/20\n",
            "\u001b[1m112/112\u001b[0m \u001b[32m━━━━━━━━━━━━━━━━━━━━\u001b[0m\u001b[37m\u001b[0m \u001b[1m566s\u001b[0m 5s/step - accuracy: 0.9896 - loss: 0.0307 - val_accuracy: 0.9718 - val_loss: 0.1172\n",
            "Epoch 6/20\n",
            "\u001b[1m112/112\u001b[0m \u001b[32m━━━━━━━━━━━━━━━━━━━━\u001b[0m\u001b[37m\u001b[0m \u001b[1m557s\u001b[0m 5s/step - accuracy: 0.9983 - loss: 0.0089 - val_accuracy: 0.9628 - val_loss: 0.1641\n",
            "Epoch 7/20\n",
            "\u001b[1m112/112\u001b[0m \u001b[32m━━━━━━━━━━━━━━━━━━━━\u001b[0m\u001b[37m\u001b[0m \u001b[1m537s\u001b[0m 5s/step - accuracy: 0.9864 - loss: 0.0392 - val_accuracy: 0.9662 - val_loss: 0.1337\n",
            "Epoch 8/20\n",
            "\u001b[1m112/112\u001b[0m \u001b[32m━━━━━━━━━━━━━━━━━━━━\u001b[0m\u001b[37m\u001b[0m \u001b[1m533s\u001b[0m 5s/step - accuracy: 0.9958 - loss: 0.0126 - val_accuracy: 0.9640 - val_loss: 0.1949\n",
            "Epoch 9/20\n",
            "\u001b[1m112/112\u001b[0m \u001b[32m━━━━━━━━━━━━━━━━━━━━\u001b[0m\u001b[37m\u001b[0m \u001b[1m519s\u001b[0m 5s/step - accuracy: 0.9919 - loss: 0.0218 - val_accuracy: 0.9685 - val_loss: 0.1913\n",
            "Epoch 10/20\n",
            "\u001b[1m112/112\u001b[0m \u001b[32m━━━━━━━━━━━━━━━━━━━━\u001b[0m\u001b[37m\u001b[0m \u001b[1m517s\u001b[0m 5s/step - accuracy: 0.9923 - loss: 0.0242 - val_accuracy: 0.9718 - val_loss: 0.1569\n",
            "Epoch 11/20\n",
            "\u001b[1m112/112\u001b[0m \u001b[32m━━━━━━━━━━━━━━━━━━━━\u001b[0m\u001b[37m\u001b[0m \u001b[1m521s\u001b[0m 5s/step - accuracy: 1.0000 - loss: 0.0010 - val_accuracy: 0.9718 - val_loss: 0.1730\n",
            "Epoch 12/20\n",
            "\u001b[1m112/112\u001b[0m \u001b[32m━━━━━━━━━━━━━━━━━━━━\u001b[0m\u001b[37m\u001b[0m \u001b[1m521s\u001b[0m 5s/step - accuracy: 1.0000 - loss: 5.7580e-04 - val_accuracy: 0.9730 - val_loss: 0.1948\n",
            "Epoch 13/20\n",
            "\u001b[1m112/112\u001b[0m \u001b[32m━━━━━━━━━━━━━━━━━━━━\u001b[0m\u001b[37m\u001b[0m \u001b[1m521s\u001b[0m 5s/step - accuracy: 1.0000 - loss: 1.4990e-04 - val_accuracy: 0.9741 - val_loss: 0.1988\n",
            "Epoch 14/20\n",
            "\u001b[1m112/112\u001b[0m \u001b[32m━━━━━━━━━━━━━━━━━━━━\u001b[0m\u001b[37m\u001b[0m \u001b[1m560s\u001b[0m 5s/step - accuracy: 1.0000 - loss: 6.7543e-05 - val_accuracy: 0.9741 - val_loss: 0.2075\n",
            "Epoch 15/20\n",
            "\u001b[1m112/112\u001b[0m \u001b[32m━━━━━━━━━━━━━━━━━━━━\u001b[0m\u001b[37m\u001b[0m \u001b[1m557s\u001b[0m 5s/step - accuracy: 1.0000 - loss: 3.9738e-05 - val_accuracy: 0.9741 - val_loss: 0.2263\n",
            "Epoch 16/20\n",
            "\u001b[1m112/112\u001b[0m \u001b[32m━━━━━━━━━━━━━━━━━━━━\u001b[0m\u001b[37m\u001b[0m \u001b[1m515s\u001b[0m 5s/step - accuracy: 1.0000 - loss: 2.3693e-05 - val_accuracy: 0.9741 - val_loss: 0.2403\n",
            "Epoch 17/20\n",
            "\u001b[1m112/112\u001b[0m \u001b[32m━━━━━━━━━━━━━━━━━━━━\u001b[0m\u001b[37m\u001b[0m \u001b[1m524s\u001b[0m 5s/step - accuracy: 1.0000 - loss: 1.6744e-05 - val_accuracy: 0.9752 - val_loss: 0.2424\n",
            "Epoch 18/20\n",
            "\u001b[1m112/112\u001b[0m \u001b[32m━━━━━━━━━━━━━━━━━━━━\u001b[0m\u001b[37m\u001b[0m \u001b[1m593s\u001b[0m 5s/step - accuracy: 1.0000 - loss: 1.5302e-05 - val_accuracy: 0.9775 - val_loss: 0.2405\n",
            "Epoch 19/20\n",
            "\u001b[1m112/112\u001b[0m \u001b[32m━━━━━━━━━━━━━━━━━━━━\u001b[0m\u001b[37m\u001b[0m \u001b[1m562s\u001b[0m 5s/step - accuracy: 1.0000 - loss: 8.1138e-06 - val_accuracy: 0.9775 - val_loss: 0.2464\n",
            "Epoch 20/20\n",
            "\u001b[1m112/112\u001b[0m \u001b[32m━━━━━━━━━━━━━━━━━━━━\u001b[0m\u001b[37m\u001b[0m \u001b[1m570s\u001b[0m 5s/step - accuracy: 1.0000 - loss: 5.8423e-06 - val_accuracy: 0.9752 - val_loss: 0.2580\n"
          ]
        }
      ]
    },
    {
      "cell_type": "code",
      "source": [
        "import matplotlib.pyplot as plt\n",
        "\n",
        "plt.figure(figsize=(8, 5))\n",
        "plt.plot(history.history['accuracy'], color='green', label='Training Accuracy')\n",
        "plt.plot(history.history['val_accuracy'], color='orange', label='Validation Accuracy')\n",
        "\n",
        "plt.title('Model Accuracy for CNN (Buildings vs Forests)')\n",
        "plt.xlabel('Epochs')\n",
        "plt.ylabel('Accuracy')\n",
        "plt.legend()\n",
        "plt.grid(True)\n",
        "plt.tight_layout()\n",
        "plt.show()\n"
      ],
      "metadata": {
        "colab": {
          "base_uri": "https://localhost:8080/",
          "height": 507
        },
        "id": "6WqARQu9gSF-",
        "outputId": "2d1175ef-c82a-43a5-a86c-c41289a0da72"
      },
      "execution_count": 16,
      "outputs": [
        {
          "output_type": "display_data",
          "data": {
            "text/plain": [
              "<Figure size 800x500 with 1 Axes>"
            ],
            "image/png": "[encoded data removed]"
          },
          "metadata": {}
        }
      ]
    },
    {
      "cell_type": "code",
      "source": [
        "import matplotlib.pyplot as plt\n",
        "\n",
        "plt.figure(figsize=(8, 5))\n",
        "plt.plot(history.history['accuracy'], color='green', label='Training Accuracy')\n",
        "plt.plot(history.history['val_accuracy'], color='orange', label='Validation Accuracy')\n",
        "\n",
        "plt.title('Model Accuracy for Your CNN Model')\n",
        "plt.xlabel('Epochs')\n",
        "plt.ylabel('Accuracy')\n",
        "plt.legend()\n",
        "plt.grid(True)\n",
        "plt.tight_layout()\n",
        "plt.show()\n"
      ],
      "metadata": {
        "colab": {
          "base_uri": "https://localhost:8080/",
          "height": 507
        },
        "id": "40m1VrCegWH_",
        "outputId": "643206f4-d001-4bcc-ebe6-9158bd1db1a7"
      },
      "execution_count": 17,
      "outputs": [
        {
          "output_type": "display_data",
          "data": {
            "text/plain": [
              "<Figure size 800x500 with 1 Axes>"
            ],
            "image/png": "[encoded data removed]"
          },
          "metadata": {}
        }
      ]
    },
    {
      "cell_type": "code",
      "source": [
        "from tensorflow.keras.preprocessing.image import ImageDataGenerator\n",
        "\n",
        "test_dir = '/content/Buildings-vs-Forests/buildings-vs-forests/test_set'\n",
        "\n",
        "test_datagen = ImageDataGenerator(rescale=1./255)\n",
        "test_data = test_datagen.flow_from_directory(\n",
        "    test_dir,\n",
        "    target_size=(256, 256),\n",
        "    batch_size=32,\n",
        "    class_mode='binary'\n",
        ")\n"
      ],
      "metadata": {
        "colab": {
          "base_uri": "https://localhost:8080/"
        },
        "id": "ZUmYXPpIiqq8",
        "outputId": "acac375b-9a11-4f9c-e677-22d5a9f41d11"
      },
      "execution_count": 18,
      "outputs": [
        {
          "output_type": "stream",
          "name": "stdout",
          "text": [
            "Found 911 images belonging to 2 classes.\n"
          ]
        }
      ]
    },
    {
      "cell_type": "code",
      "source": [
        "predictions = model.predict(test_data)"
      ],
      "metadata": {
        "colab": {
          "base_uri": "https://localhost:8080/"
        },
        "id": "XVBHPexRiqiF",
        "outputId": "a692f297-87a6-4bc0-9686-95e2f3a431e4"
      },
      "execution_count": 19,
      "outputs": [
        {
          "output_type": "stream",
          "name": "stdout",
          "text": [
            "\u001b[1m29/29\u001b[0m \u001b[32m━━━━━━━━━━━━━━━━━━━━\u001b[0m\u001b[37m\u001b[0m \u001b[1m40s\u001b[0m 1s/step\n"
          ]
        }
      ]
    },
    {
      "cell_type": "code",
      "source": [
        "from sklearn.metrics import confusion_matrix, classification_report\n",
        "import numpy as np\n",
        "\n",
        "predicted_labels = (predictions > 0.5).astype(\"int32\").flatten()\n",
        "\n",
        "true_labels = test_data.classes\n",
        "\n",
        "cm = confusion_matrix(true_labels, predicted_labels)\n",
        "\n",
        "print(\"Confusion Matrix:\")\n",
        "print(cm)\n",
        "\n",
        "target_names = list(test_data.class_indices.keys())  # مثلاً: ['buildings', 'forest']\n",
        "print(\"Classification Report:\")\n",
        "print(classification_report(true_labels, predicted_labels, target_names=target_names))\n"
      ],
      "metadata": {
        "colab": {
          "base_uri": "https://localhost:8080/"
        },
        "id": "tOBZ_vtyiqWM",
        "outputId": "3bcdd2ad-28ca-4336-a058-91250fadc1ab"
      },
      "execution_count": 20,
      "outputs": [
        {
          "output_type": "stream",
          "name": "stdout",
          "text": [
            "Confusion Matrix:\n",
            "[[218 219]\n",
            " [228 246]]\n",
            "Classification Report:\n",
            "              precision    recall  f1-score   support\n",
            "\n",
            "   buildings       0.49      0.50      0.49       437\n",
            "      forest       0.53      0.52      0.52       474\n",
            "\n",
            "    accuracy                           0.51       911\n",
            "   macro avg       0.51      0.51      0.51       911\n",
            "weighted avg       0.51      0.51      0.51       911\n",
            "\n"
          ]
        }
      ]
    },
    {
      "cell_type": "code",
      "source": [
        "from tensorflow.keras.models import Sequential\n",
        "from tensorflow.keras.layers import Conv2D, MaxPooling2D, Flatten, Dense, Dropout, BatchNormalization\n",
        "\n",
        "model = Sequential()\n",
        "\n",
        "model.add(Conv2D(32, (3, 3), activation='relu', padding='valid', input_shape=(256, 256, 3)))\n",
        "model.add(BatchNormalization())\n",
        "model.add(MaxPooling2D(pool_size=(2, 2), strides=2))\n",
        "\n",
        "model.add(Conv2D(64, (3, 3), activation='relu', padding='valid'))\n",
        "model.add(BatchNormalization())\n",
        "model.add(MaxPooling2D(pool_size=(2, 2), strides=2))\n",
        "\n",
        "model.add(Conv2D(128, (3, 3), activation='relu', padding='valid'))\n",
        "model.add(BatchNormalization())\n",
        "model.add(MaxPooling2D(pool_size=(2, 2), strides=2))\n",
        "\n",
        "model.add(Flatten())\n",
        "\n",
        "model.add(Dense(128, activation='relu'))\n",
        "model.add(Dropout(0.1))\n",
        "model.add(Dense(64, activation='relu'))\n",
        "model.add(Dropout(0.1))\n",
        "\n",
        "model.add(Dense(1, activation='sigmoid'))"
      ],
      "metadata": {
        "colab": {
          "base_uri": "https://localhost:8080/"
        },
        "id": "lIVduWg5vnR9",
        "outputId": "cfa877a2-c1c4-4686-db9b-efb5d071a699"
      },
      "execution_count": 21,
      "outputs": [
        {
          "output_type": "stream",
          "name": "stderr",
          "text": [
            "/usr/local/lib/python3.11/dist-packages/keras/src/layers/convolutional/base_conv.py:107: UserWarning: Do not pass an `input_shape`/`input_dim` argument to a layer. When using Sequential models, prefer using an `Input(shape)` object as the first layer in the model instead.\n",
            "  super().__init__(activity_regularizer=activity_regularizer, **kwargs)\n"
          ]
        }
      ]
    },
    {
      "cell_type": "code",
      "source": [
        "from keras.optimizers import Adam\n",
        "\n",
        "model.compile(\n",
        "    optimizer=Adam(learning_rate=0.001),\n",
        "    loss='binary_crossentropy',\n",
        "    metrics=['accuracy']\n",
        ")\n"
      ],
      "metadata": {
        "id": "dvDounpsv7UH"
      },
      "execution_count": 24,
      "outputs": []
    },
    {
      "cell_type": "code",
      "source": [
        "history = model.fit(train_data, epochs=20, validation_data=validation_data)"
      ],
      "metadata": {
        "colab": {
          "base_uri": "https://localhost:8080/"
        },
        "id": "ZAQi5q3NwBQi",
        "outputId": "4d352dd6-a118-4546-c36b-e6400c37ca88"
      },
      "execution_count": 26,
      "outputs": [
        {
          "output_type": "stream",
          "name": "stdout",
          "text": [
            "Epoch 1/20\n",
            "\u001b[1m112/112\u001b[0m \u001b[32m━━━━━━━━━━━━━━━━━━━━\u001b[0m\u001b[37m\u001b[0m \u001b[1m927s\u001b[0m 8s/step - accuracy: 0.8440 - loss: 3.0667 - val_accuracy: 0.4932 - val_loss: 30.1513\n",
            "Epoch 2/20\n",
            "\u001b[1m112/112\u001b[0m \u001b[32m━━━━━━━━━━━━━━━━━━━━\u001b[0m\u001b[37m\u001b[0m \u001b[1m922s\u001b[0m 8s/step - accuracy: 0.9283 - loss: 1.1837 - val_accuracy: 0.5755 - val_loss: 3.1189\n",
            "Epoch 3/20\n",
            "\u001b[1m112/112\u001b[0m \u001b[32m━━━━━━━━━━━━━━━━━━━━\u001b[0m\u001b[37m\u001b[0m \u001b[1m919s\u001b[0m 8s/step - accuracy: 0.9443 - loss: 0.5768 - val_accuracy: 0.6689 - val_loss: 1.9621\n",
            "Epoch 4/20\n",
            "\u001b[1m112/112\u001b[0m \u001b[32m━━━━━━━━━━━━━━━━━━━━\u001b[0m\u001b[37m\u001b[0m \u001b[1m901s\u001b[0m 8s/step - accuracy: 0.9488 - loss: 0.3467 - val_accuracy: 0.9099 - val_loss: 0.6983\n",
            "Epoch 5/20\n",
            "\u001b[1m112/112\u001b[0m \u001b[32m━━━━━━━━━━━━━━━━━━━━\u001b[0m\u001b[37m\u001b[0m \u001b[1m918s\u001b[0m 8s/step - accuracy: 0.9660 - loss: 0.2752 - val_accuracy: 0.9459 - val_loss: 0.5284\n",
            "Epoch 6/20\n",
            "\u001b[1m112/112\u001b[0m \u001b[32m━━━━━━━━━━━━━━━━━━━━\u001b[0m\u001b[37m\u001b[0m \u001b[1m892s\u001b[0m 8s/step - accuracy: 0.9733 - loss: 0.1266 - val_accuracy: 0.8649 - val_loss: 0.7925\n",
            "Epoch 7/20\n",
            "\u001b[1m112/112\u001b[0m \u001b[32m━━━━━━━━━━━━━━━━━━━━\u001b[0m\u001b[37m\u001b[0m \u001b[1m935s\u001b[0m 8s/step - accuracy: 0.9745 - loss: 0.1416 - val_accuracy: 0.9448 - val_loss: 0.4466\n",
            "Epoch 8/20\n",
            "\u001b[1m112/112\u001b[0m \u001b[32m━━━━━━━━━━━━━━━━━━━━\u001b[0m\u001b[37m\u001b[0m \u001b[1m952s\u001b[0m 8s/step - accuracy: 0.9760 - loss: 0.1312 - val_accuracy: 0.9617 - val_loss: 0.4023\n",
            "Epoch 9/20\n",
            "\u001b[1m112/112\u001b[0m \u001b[32m━━━━━━━━━━━━━━━━━━━━\u001b[0m\u001b[37m\u001b[0m \u001b[1m901s\u001b[0m 8s/step - accuracy: 0.9863 - loss: 0.0547 - val_accuracy: 0.9685 - val_loss: 0.2725\n",
            "Epoch 10/20\n",
            "\u001b[1m112/112\u001b[0m \u001b[32m━━━━━━━━━━━━━━━━━━━━\u001b[0m\u001b[37m\u001b[0m \u001b[1m895s\u001b[0m 8s/step - accuracy: 0.9783 - loss: 0.1563 - val_accuracy: 0.9234 - val_loss: 0.3791\n",
            "Epoch 11/20\n",
            "\u001b[1m112/112\u001b[0m \u001b[32m━━━━━━━━━━━━━━━━━━━━\u001b[0m\u001b[37m\u001b[0m \u001b[1m899s\u001b[0m 8s/step - accuracy: 0.9773 - loss: 0.1184 - val_accuracy: 0.8953 - val_loss: 0.6965\n",
            "Epoch 12/20\n",
            "\u001b[1m112/112\u001b[0m \u001b[32m━━━━━━━━━━━━━━━━━━━━\u001b[0m\u001b[37m\u001b[0m \u001b[1m897s\u001b[0m 8s/step - accuracy: 0.9859 - loss: 0.0535 - val_accuracy: 0.9797 - val_loss: 0.1905\n",
            "Epoch 13/20\n",
            "\u001b[1m112/112\u001b[0m \u001b[32m━━━━━━━━━━━━━━━━━━━━\u001b[0m\u001b[37m\u001b[0m \u001b[1m941s\u001b[0m 8s/step - accuracy: 0.9922 - loss: 0.0272 - val_accuracy: 0.9752 - val_loss: 0.1520\n",
            "Epoch 14/20\n",
            "\u001b[1m112/112\u001b[0m \u001b[32m━━━━━━━━━━━━━━━━━━━━\u001b[0m\u001b[37m\u001b[0m \u001b[1m897s\u001b[0m 8s/step - accuracy: 0.9877 - loss: 0.0605 - val_accuracy: 0.9245 - val_loss: 0.6138\n",
            "Epoch 15/20\n",
            "\u001b[1m112/112\u001b[0m \u001b[32m━━━━━━━━━━━━━━━━━━━━\u001b[0m\u001b[37m\u001b[0m \u001b[1m906s\u001b[0m 8s/step - accuracy: 0.9841 - loss: 0.0595 - val_accuracy: 0.9077 - val_loss: 0.5451\n",
            "Epoch 16/20\n",
            "\u001b[1m112/112\u001b[0m \u001b[32m━━━━━━━━━━━━━━━━━━━━\u001b[0m\u001b[37m\u001b[0m \u001b[1m899s\u001b[0m 8s/step - accuracy: 0.9892 - loss: 0.0355 - val_accuracy: 0.9516 - val_loss: 0.4021\n",
            "Epoch 17/20\n",
            "\u001b[1m112/112\u001b[0m \u001b[32m━━━━━━━━━━━━━━━━━━━━\u001b[0m\u001b[37m\u001b[0m \u001b[1m931s\u001b[0m 8s/step - accuracy: 0.9913 - loss: 0.0424 - val_accuracy: 0.9561 - val_loss: 0.3472\n",
            "Epoch 18/20\n",
            "\u001b[1m112/112\u001b[0m \u001b[32m━━━━━━━━━━━━━━━━━━━━\u001b[0m\u001b[37m\u001b[0m \u001b[1m941s\u001b[0m 8s/step - accuracy: 0.9949 - loss: 0.0260 - val_accuracy: 0.9550 - val_loss: 0.2694\n",
            "Epoch 19/20\n",
            "\u001b[1m112/112\u001b[0m \u001b[32m━━━━━━━━━━━━━━━━━━━━\u001b[0m\u001b[37m\u001b[0m \u001b[1m945s\u001b[0m 8s/step - accuracy: 0.9945 - loss: 0.0184 - val_accuracy: 0.9347 - val_loss: 0.4229\n",
            "Epoch 20/20\n",
            "\u001b[1m112/112\u001b[0m \u001b[32m━━━━━━━━━━━━━━━━━━━━\u001b[0m\u001b[37m\u001b[0m \u001b[1m961s\u001b[0m 9s/step - accuracy: 0.9785 - loss: 0.1018 - val_accuracy: 0.8671 - val_loss: 0.9985\n"
          ]
        }
      ]
    },
    {
      "cell_type": "code",
      "source": [
        "test_data = test_datagen.flow_from_directory(\n",
        "    test_dir,\n",
        "    target_size=(256,256),\n",
        "    batch_size=32,\n",
        "    class_mode='binary'\n",
        ")"
      ],
      "metadata": {
        "colab": {
          "base_uri": "https://localhost:8080/"
        },
        "id": "caBKLgr4wBsR",
        "outputId": "5eb9b176-ae75-47ca-835f-e511b7dc5eee"
      },
      "execution_count": 27,
      "outputs": [
        {
          "output_type": "stream",
          "name": "stdout",
          "text": [
            "Found 911 images belonging to 2 classes.\n"
          ]
        }
      ]
    },
    {
      "cell_type": "code",
      "source": [
        "predictions = model.predict(test_data)"
      ],
      "metadata": {
        "colab": {
          "base_uri": "https://localhost:8080/"
        },
        "id": "FdqtTd9VwOKK",
        "outputId": "4c378f16-fb92-4057-a08c-57f54749b3ec"
      },
      "execution_count": 28,
      "outputs": [
        {
          "output_type": "stream",
          "name": "stderr",
          "text": [
            "/usr/local/lib/python3.11/dist-packages/keras/src/trainers/data_adapters/py_dataset_adapter.py:121: UserWarning: Your `PyDataset` class should call `super().__init__(**kwargs)` in its constructor. `**kwargs` can include `workers`, `use_multiprocessing`, `max_queue_size`. Do not pass these arguments to `fit()`, as they will be ignored.\n",
            "  self._warn_if_super_not_called()\n"
          ]
        },
        {
          "output_type": "stream",
          "name": "stdout",
          "text": [
            "\u001b[1m29/29\u001b[0m \u001b[32m━━━━━━━━━━━━━━━━━━━━\u001b[0m\u001b[37m\u001b[0m \u001b[1m45s\u001b[0m 2s/step\n"
          ]
        }
      ]
    },
    {
      "cell_type": "code",
      "source": [
        "from sklearn.metrics import confusion_matrix, classification_report\n",
        "\n",
        "# Assuming you have ground truth labels (true_labels) and predicted labels (predictions)\n",
        "true_labels = test_data.classes\n",
        "predicted_labels = (predictions > 0.5).astype(int)  # Adjust the threshold as needed\n",
        "\n",
        "# Calculate confusion matrix\n",
        "cm = confusion_matrix(true_labels, predicted_labels)\n",
        "\n",
        "# Print confusion matrix\n",
        "print(\"Confusion Matrix:\")\n",
        "print(cm)\n",
        "\n",
        "# Print classification report\n",
        "print(\"Classification Report after applying techniques to handle overfitting:\")\n",
        "print(classification_report(true_labels, predicted_labels))"
      ],
      "metadata": {
        "colab": {
          "base_uri": "https://localhost:8080/"
        },
        "id": "OPD0F9Fa_uqt",
        "outputId": "fb4f17fb-f244-425a-8380-794d15013c3d"
      },
      "execution_count": 29,
      "outputs": [
        {
          "output_type": "stream",
          "name": "stdout",
          "text": [
            "Confusion Matrix:\n",
            "[[155 282]\n",
            " [163 311]]\n",
            "Classification Report after applying techniques to handle overfitting:\n",
            "              precision    recall  f1-score   support\n",
            "\n",
            "           0       0.49      0.35      0.41       437\n",
            "           1       0.52      0.66      0.58       474\n",
            "\n",
            "    accuracy                           0.51       911\n",
            "   macro avg       0.51      0.51      0.50       911\n",
            "weighted avg       0.51      0.51      0.50       911\n",
            "\n"
          ]
        }
      ]
    },
    {
      "cell_type": "code",
      "source": [
        "import tensorflow as tf\n",
        "from tensorflow.keras.models import Sequential\n",
        "from tensorflow.keras.layers import Dense, Flatten\n",
        "from tensorflow.keras.applications import ResNet50\n",
        "\n",
        "# Initialize the model\n",
        "resnet_model = Sequential()\n",
        "\n",
        "# Load pre-trained ResNet50 model without top layer\n",
        "pretrained_model = ResNet50(\n",
        "    include_top=False,\n",
        "    input_shape=(256, 256, 3),\n",
        "    pooling='max',\n",
        "    weights='imagenet'\n",
        ")\n",
        "\n",
        "# Freeze all layers in the pre-trained model\n",
        "for layer in pretrained_model.layers:\n",
        "    layer.trainable = False\n",
        "\n",
        "# Add the ResNet50 base\n",
        "resnet_model.add(pretrained_model)\n",
        "\n",
        "# Add custom classification head\n",
        "resnet_model.add(Flatten())\n",
        "resnet_model.add(Dense(512, activation='relu'))\n",
        "resnet_model.add(Dense(1, activation='sigmoid'))  # Binary classification\n"
      ],
      "metadata": {
        "colab": {
          "base_uri": "https://localhost:8080/"
        },
        "id": "FsRfZ_lFAEsb",
        "outputId": "ee2486fc-6361-40a0-8bea-2acbc54c6296"
      },
      "execution_count": 30,
      "outputs": [
        {
          "output_type": "stream",
          "name": "stdout",
          "text": [
            "Downloading data from https://storage.googleapis.com/tensorflow/keras-applications/resnet/resnet50_weights_tf_dim_ordering_tf_kernels_notop.h5\n",
            "\u001b[1m94765736/94765736\u001b[0m \u001b[32m━━━━━━━━━━━━━━━━━━━━\u001b[0m\u001b[37m\u001b[0m \u001b[1m0s\u001b[0m 0us/step\n"
          ]
        }
      ]
    },
    {
      "cell_type": "code",
      "source": [
        "from keras.optimizers import Adam\n",
        "resnet_model.compile(optimizer=Adam(learning_rate=0.001),loss='binary_crossentropy',metrics=['accuracy'])"
      ],
      "metadata": {
        "id": "ZTt-VhQ7AJru"
      },
      "execution_count": 31,
      "outputs": []
    },
    {
      "cell_type": "code",
      "source": [
        "history = resnet_model.fit(train_data, epochs=20, validation_data=validation_data)"
      ],
      "metadata": {
        "colab": {
          "base_uri": "https://localhost:8080/"
        },
        "id": "eN8Qe1cjAUKE",
        "outputId": "9e989ee2-fde4-4bb0-e4bb-d63fa12242e8"
      },
      "execution_count": null,
      "outputs": [
        {
          "output_type": "stream",
          "name": "stdout",
          "text": [
            "Epoch 1/20\n",
            "\u001b[1m112/112\u001b[0m \u001b[32m━━━━━━━━━━━━━━━━━━━━\u001b[0m\u001b[37m\u001b[0m \u001b[1m1045s\u001b[0m 9s/step - accuracy: 0.6696 - loss: 1.5387 - val_accuracy: 0.8840 - val_loss: 0.2872\n",
            "Epoch 2/20\n",
            "\u001b[1m112/112\u001b[0m \u001b[32m━━━━━━━━━━━━━━━━━━━━\u001b[0m\u001b[37m\u001b[0m \u001b[1m1031s\u001b[0m 9s/step - accuracy: 0.8844 - loss: 0.2871 - val_accuracy: 0.7354 - val_loss: 0.5427\n",
            "Epoch 3/20\n",
            "\u001b[1m112/112\u001b[0m \u001b[32m━━━━━━━━━━━━━━━━━━━━\u001b[0m\u001b[37m\u001b[0m \u001b[1m1082s\u001b[0m 10s/step - accuracy: 0.8814 - loss: 0.2521 - val_accuracy: 0.9291 - val_loss: 0.1976\n",
            "Epoch 4/20\n",
            "\u001b[1m112/112\u001b[0m \u001b[32m━━━━━━━━━━━━━━━━━━━━\u001b[0m\u001b[37m\u001b[0m \u001b[1m1042s\u001b[0m 9s/step - accuracy: 0.9143 - loss: 0.2124 - val_accuracy: 0.9324 - val_loss: 0.1856\n",
            "Epoch 5/20\n",
            "\u001b[1m112/112\u001b[0m \u001b[32m━━━━━━━━━━━━━━━━━━━━\u001b[0m\u001b[37m\u001b[0m \u001b[1m1022s\u001b[0m 9s/step - accuracy: 0.9494 - loss: 0.1438 - val_accuracy: 0.9313 - val_loss: 0.1735\n",
            "Epoch 6/20\n",
            "\u001b[1m112/112\u001b[0m \u001b[32m━━━━━━━━━━━━━━━━━━━━\u001b[0m\u001b[37m\u001b[0m \u001b[1m1016s\u001b[0m 9s/step - accuracy: 0.9126 - loss: 0.2089 - val_accuracy: 0.9403 - val_loss: 0.1664\n",
            "Epoch 7/20\n",
            "\u001b[1m112/112\u001b[0m \u001b[32m━━━━━━━━━━━━━━━━━━━━\u001b[0m\u001b[37m\u001b[0m \u001b[1m1019s\u001b[0m 9s/step - accuracy: 0.9326 - loss: 0.1603 - val_accuracy: 0.9459 - val_loss: 0.1406\n",
            "Epoch 8/20\n",
            "\u001b[1m112/112\u001b[0m \u001b[32m━━━━━━━━━━━━━━━━━━━━\u001b[0m\u001b[37m\u001b[0m \u001b[1m1023s\u001b[0m 9s/step - accuracy: 0.9137 - loss: 0.2259 - val_accuracy: 0.9471 - val_loss: 0.1373\n",
            "Epoch 9/20\n",
            "\u001b[1m112/112\u001b[0m \u001b[32m━━━━━━━━━━━━━━━━━━━━\u001b[0m\u001b[37m\u001b[0m \u001b[1m1016s\u001b[0m 9s/step - accuracy: 0.9435 - loss: 0.1611 - val_accuracy: 0.9223 - val_loss: 0.2075\n",
            "Epoch 10/20\n",
            "\u001b[1m112/112\u001b[0m \u001b[32m━━━━━━━━━━━━━━━━━━━━\u001b[0m\u001b[37m\u001b[0m \u001b[1m1051s\u001b[0m 9s/step - accuracy: 0.9366 - loss: 0.1570 - val_accuracy: 0.8209 - val_loss: 0.4649\n",
            "Epoch 11/20\n",
            "\u001b[1m112/112\u001b[0m \u001b[32m━━━━━━━━━━━━━━━━━━━━\u001b[0m\u001b[37m\u001b[0m \u001b[1m1037s\u001b[0m 9s/step - accuracy: 0.9262 - loss: 0.1792 - val_accuracy: 0.8818 - val_loss: 0.3292\n",
            "Epoch 12/20\n",
            "\u001b[1m 82/112\u001b[0m \u001b[32m━━━━━━━━━━━━━━\u001b[0m\u001b[37m━━━━━━\u001b[0m \u001b[1m3:43\u001b[0m 7s/step - accuracy: 0.9270 - loss: 0.1893"
          ]
        }
      ]
    },
    {
      "cell_type": "code",
      "source": [],
      "metadata": {
        "id": "Oyj_kYzhH1Ae"
      },
      "execution_count": null,
      "outputs": []
    },
    {
      "cell_type": "code",
      "source": [],
      "metadata": {
        "id": "G4Wz858-AUAu"
      },
      "execution_count": null,
      "outputs": []
    }
  ]
}